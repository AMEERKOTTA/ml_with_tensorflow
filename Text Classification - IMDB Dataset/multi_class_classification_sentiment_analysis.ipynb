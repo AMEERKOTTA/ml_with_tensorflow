{
  "nbformat": 4,
  "nbformat_minor": 0,
  "metadata": {
    "colab": {
      "name": "multi_class_classification_sentiment_analysis.ipynb",
      "provenance": []
    },
    "kernelspec": {
      "name": "python3",
      "display_name": "Python 3"
    }
  },
  "cells": [
    {
      "cell_type": "markdown",
      "metadata": {
        "id": "pSGNqC4FXT0E"
      },
      "source": [
        "# **Text Classification - Sentiment Analysis**"
      ]
    },
    {
      "cell_type": "markdown",
      "metadata": {
        "id": "VceDRwQJXdmC"
      },
      "source": [
        "This is a Binary Classifier to Peform Sentiment Analysis on the IMDB Dataset."
      ]
    },
    {
      "cell_type": "code",
      "metadata": {
        "id": "6PEdzWz6Xc2z"
      },
      "source": [
        "import matplotlib.pyplot as plt\r\n",
        "import os\r\n",
        "import re\r\n",
        "import shutil\r\n",
        "import string\r\n",
        "import tensorflow as tf\r\n",
        "\r\n",
        "from tensorflow.keras import layers\r\n",
        "from tensorflow.keras import losses\r\n",
        "from tensorflow.keras import preprocessing\r\n",
        "from tensorflow.keras.layers.experimental.preprocessing import TextVectorization"
      ],
      "execution_count": 38,
      "outputs": []
    },
    {
      "cell_type": "code",
      "metadata": {
        "colab": {
          "base_uri": "https://localhost:8080/"
        },
        "id": "f7_Z5KNBZQ8v",
        "outputId": "5dfa79e1-6527-45f9-96a4-85a0fe112baf"
      },
      "source": [
        "print(tf.__version__)"
      ],
      "execution_count": 39,
      "outputs": [
        {
          "output_type": "stream",
          "text": [
            "2.4.1\n"
          ],
          "name": "stdout"
        }
      ]
    },
    {
      "cell_type": "markdown",
      "metadata": {
        "id": "4RawEZeeaEsi"
      },
      "source": [
        "## **Sentiment Analysis**"
      ]
    },
    {
      "cell_type": "markdown",
      "metadata": {
        "id": "Xsb1ZsN7aeLB"
      },
      "source": [
        "The notebook trains a sentiment analysis model to classify movie reviews as positive or negative, based on the text of the review. This is an example of **binary—or two-class—classification**, an important and widely applicable kind of machine learning problem."
      ]
    },
    {
      "cell_type": "markdown",
      "metadata": {
        "id": "aveYWI7FavYf"
      },
      "source": [
        "Dataset used here is the Large Movie Review Dataset that contains the text of 50,000 movie reviews from the Internet Movie Database. These are split into **25,000 reviews for training** and **25,000 reviews for testing**. The training and testing sets are balanced, which means they contain an equal number of positive and negative reviews."
      ]
    },
    {
      "cell_type": "markdown",
      "metadata": {
        "id": "DbVT3QgcbHWR"
      },
      "source": [
        "## 1. Download the IMDB Dataset."
      ]
    },
    {
      "cell_type": "code",
      "metadata": {
        "id": "e5DH6CVGZkCM"
      },
      "source": [
        "url = \"http://storage.googleapis.com/download.tensorflow.org/data/stack_overflow_16k.tar.gz\"\r\n",
        "\r\n",
        "dataset = tf.keras.utils.get_file(\"aclImdb_v1.tar.gz\", url,\r\n",
        "                                    untar=True, cache_dir='.',\r\n",
        "                                    cache_subdir='')\r\n",
        "\r\n",
        "dataset_dir = os.path.join(os.path.dirname(dataset), 'aclImdb')"
      ],
      "execution_count": 40,
      "outputs": []
    },
    {
      "cell_type": "code",
      "metadata": {
        "colab": {
          "base_uri": "https://localhost:8080/"
        },
        "id": "-qk3jI4lbcUW",
        "outputId": "ee1bccc7-b458-458b-a2d9-78242e901bf3"
      },
      "source": [
        "os.listdir(dataset_dir)"
      ],
      "execution_count": 41,
      "outputs": [
        {
          "output_type": "execute_result",
          "data": {
            "text/plain": [
              "['imdbEr.txt', 'test', 'imdb.vocab', 'train', 'README']"
            ]
          },
          "metadata": {
            "tags": []
          },
          "execution_count": 41
        }
      ]
    },
    {
      "cell_type": "code",
      "metadata": {
        "colab": {
          "base_uri": "https://localhost:8080/"
        },
        "id": "MYtXxLq4boFz",
        "outputId": "358e1793-5e7a-4b47-9631-13fbf466913d"
      },
      "source": [
        "train_dir = os.path.join(dataset_dir, 'train')\r\n",
        "os.listdir(train_dir)"
      ],
      "execution_count": 42,
      "outputs": [
        {
          "output_type": "execute_result",
          "data": {
            "text/plain": [
              "['urls_neg.txt',\n",
              " 'unsupBow.feat',\n",
              " 'neg',\n",
              " 'unsup',\n",
              " 'pos',\n",
              " 'labeledBow.feat',\n",
              " 'urls_pos.txt',\n",
              " 'urls_unsup.txt']"
            ]
          },
          "metadata": {
            "tags": []
          },
          "execution_count": 42
        }
      ]
    },
    {
      "cell_type": "markdown",
      "metadata": {
        "id": "FR96Lv8Jc6dd"
      },
      "source": [
        "The aclImdb/train/pos and aclImdb/train/neg directories contain many text files, each of which is a single movie review. Sample file from one of them."
      ]
    },
    {
      "cell_type": "code",
      "metadata": {
        "colab": {
          "base_uri": "https://localhost:8080/"
        },
        "id": "erbmrEqScL5w",
        "outputId": "4d01f42a-e0e3-46be-d00f-0272259dfcc1"
      },
      "source": [
        "sample_file = os.path.join(train_dir, 'pos/1181_9.txt')\r\n",
        "with open(sample_file) as f:\r\n",
        "  print(f.read())"
      ],
      "execution_count": 43,
      "outputs": [
        {
          "output_type": "stream",
          "text": [
            "Rachel Griffiths writes and directs this award winning short film. A heartwarming story about coping with grief and cherishing the memory of those we've loved and lost. Although, only 15 minutes long, Griffiths manages to capture so much emotion and truth onto film in the short space of time. Bud Tingwell gives a touching performance as Will, a widower struggling to cope with his wife's death. Will is confronted by the harsh reality of loneliness and helplessness as he proceeds to take care of Ruth's pet cow, Tulip. The film displays the grief and responsibility one feels for those they have loved and lost. Good cinematography, great direction, and superbly acted. It will bring tears to all those who have lost a loved one, and survived.\n"
          ],
          "name": "stdout"
        }
      ]
    },
    {
      "cell_type": "markdown",
      "metadata": {
        "id": "xvhDjX-Cd6GJ"
      },
      "source": [
        "## 2. Load the Dataset"
      ]
    },
    {
      "cell_type": "markdown",
      "metadata": {
        "id": "7cABo4NghFbK"
      },
      "source": [
        "Load the data and prepare it into a format suitable for training.\r\n",
        "To prepare a dataset for binary classification, you will need two folders on disk, corresponding to **class_a** and **class_b**. These will be the positive and negative movie reviews, which can be found in aclImdb/train/pos and aclImdb/train/neg.\r\n",
        "+  As the IMDB dataset contains additional folders, remove them before using this utility."
      ]
    },
    {
      "cell_type": "code",
      "metadata": {
        "id": "xAs5C0wpeUsE"
      },
      "source": [
        "remove_dir = os.path.join(train_dir, 'unsup')\r\n",
        "shutil.rmtree(remove_dir)"
      ],
      "execution_count": 44,
      "outputs": []
    },
    {
      "cell_type": "markdown",
      "metadata": {
        "id": "WqpVtGgYkFWJ"
      },
      "source": [
        "Now use the text_dataset_from_directory utility to create a labeled **tf.data.Dataset**. tf.data is a powerful collection of tools for working with data.\r\n",
        "\r\n",
        "+ When running a machine learning experiment, it is a best practice to divide your dataset into three splits: **train, validation, and test**.\r\n",
        "\r\n",
        "+ The IMDB dataset has already been divided into train and test, but it lacks a validation set.So, create a validation set using an 80:20 split of the training data by using the validation_split argument below."
      ]
    },
    {
      "cell_type": "code",
      "metadata": {
        "colab": {
          "base_uri": "https://localhost:8080/"
        },
        "id": "8MmH0ETkg-cP",
        "outputId": "c5d74bb4-a9f5-419b-e1f3-0c08f6833963"
      },
      "source": [
        "batch_size = 32\r\n",
        "seed = 42\r\n",
        "\r\n",
        "raw_train_ds = tf.keras.preprocessing.text_dataset_from_directory(\r\n",
        "    'aclImdb/train', \r\n",
        "    batch_size=batch_size, \r\n",
        "    validation_split=0.2, \r\n",
        "    subset='training', \r\n",
        "    seed=seed)"
      ],
      "execution_count": 45,
      "outputs": [
        {
          "output_type": "stream",
          "text": [
            "Found 25000 files belonging to 2 classes.\n",
            "Using 20000 files for training.\n"
          ],
          "name": "stdout"
        }
      ]
    },
    {
      "cell_type": "markdown",
      "metadata": {
        "id": "V0uDymRplBEJ"
      },
      "source": [
        "There are 25,000 examples in the training folder, of which you will use 80% (or 20,000) for training. \r\n",
        "+ We can train a model by passing a dataset directly to model.fit. \r\n",
        "+ Before that, we can also iterate over the dataset and print out a few examples as follows."
      ]
    },
    {
      "cell_type": "code",
      "metadata": {
        "colab": {
          "base_uri": "https://localhost:8080/"
        },
        "id": "MhdQw7r9kjt8",
        "outputId": "e506d3da-ac74-47d3-91e5-b2ed9c1a3519"
      },
      "source": [
        "for text_batch, label_batch in raw_train_ds.take(1):\r\n",
        "  for i in range(3):\r\n",
        "    print(\"Review\", text_batch.numpy()[i])\r\n",
        "    print(\"Label\", label_batch.numpy()[i])"
      ],
      "execution_count": 46,
      "outputs": [
        {
          "output_type": "stream",
          "text": [
            "Review b'\"Pandemonium\" is a horror movie spoof that comes off more stupid than funny. Believe me when I tell you, I love comedies. Especially comedy spoofs. \"Airplane\", \"The Naked Gun\" trilogy, \"Blazing Saddles\", \"High Anxiety\", and \"Spaceballs\" are some of my favorite comedies that spoof a particular genre. \"Pandemonium\" is not up there with those films. Most of the scenes in this movie had me sitting there in stunned silence because the movie wasn\\'t all that funny. There are a few laughs in the film, but when you watch a comedy, you expect to laugh a lot more than a few times and that\\'s all this film has going for it. Geez, \"Scream\" had more laughs than this film and that was more of a horror film. How bizarre is that?<br /><br />*1/2 (out of four)'\n",
            "Label 0\n",
            "Review b\"David Mamet is a very interesting and a very un-equal director. His first movie 'House of Games' was the one I liked best, and it set a series of films with characters whose perspective of life changes as they get into complicated situations, and so does the perspective of the viewer.<br /><br />So is 'Homicide' which from the title tries to set the mind of the viewer to the usual crime drama. The principal characters are two cops, one Jewish and one Irish who deal with a racially charged area. The murder of an old Jewish shop owner who proves to be an ancient veteran of the Israeli Independence war triggers the Jewish identity in the mind and heart of the Jewish detective.<br /><br />This is were the flaws of the film are the more obvious. The process of awakening is theatrical and hard to believe, the group of Jewish militants is operatic, and the way the detective eventually walks to the final violent confrontation is pathetic. The end of the film itself is Mamet-like smart, but disappoints from a human emotional perspective.<br /><br />Joe Mantegna and William Macy give strong performances, but the flaws of the story are too evident to be easily compensated.\"\n",
            "Label 0\n",
            "Review b'Great documentary about the lives of NY firefighters during the worst terrorist attack of all time.. That reason alone is why this should be a must see collectors item.. What shocked me was not only the attacks, but the\"High Fat Diet\" and physical appearance of some of these firefighters. I think a lot of Doctors would agree with me that,in the physical shape they were in, some of these firefighters would NOT of made it to the 79th floor carrying over 60 lbs of gear. Having said that i now have a greater respect for firefighters and i realize becoming a firefighter is a life altering job. The French have a history of making great documentary\\'s and that is what this is, a Great Documentary.....'\n",
            "Label 1\n"
          ],
          "name": "stdout"
        }
      ]
    },
    {
      "cell_type": "markdown",
      "metadata": {
        "id": "FQ2PZnLllqxl"
      },
      "source": [
        "+ Reviews contain raw text \r\n",
        "+ The labels are 0 or 1. \r\n",
        "+ To see which of these correspond to positive and negative movie reviews, check the class_names property on the dataset."
      ]
    },
    {
      "cell_type": "code",
      "metadata": {
        "colab": {
          "base_uri": "https://localhost:8080/"
        },
        "id": "bJn5wTiblVnL",
        "outputId": "29d191ad-54a4-4b7b-934f-b9497b869ea7"
      },
      "source": [
        "print(\"Label 0 corresponds to\", raw_train_ds.class_names[0])\r\n",
        "print(\"Label 1 corresponds to\", raw_train_ds.class_names[1])"
      ],
      "execution_count": 47,
      "outputs": [
        {
          "output_type": "stream",
          "text": [
            "Label 0 corresponds to neg\n",
            "Label 1 corresponds to pos\n"
          ],
          "name": "stdout"
        }
      ]
    },
    {
      "cell_type": "markdown",
      "metadata": {
        "id": "ROE52ksHmE3z"
      },
      "source": [
        "Create Validation Set\r\n",
        "+ Next, create a validation and test dataset. Use the remaining 5,000 reviews from the training set for validation."
      ]
    },
    {
      "cell_type": "code",
      "metadata": {
        "colab": {
          "base_uri": "https://localhost:8080/"
        },
        "id": "4OftGjNql9Tr",
        "outputId": "53888c9f-7c7c-40b3-ac60-61a53cb94f46"
      },
      "source": [
        "raw_val_ds = tf.keras.preprocessing.text_dataset_from_directory(\r\n",
        "    'aclImdb/train', \r\n",
        "    batch_size=batch_size, \r\n",
        "    validation_split=0.2, \r\n",
        "    subset='validation', \r\n",
        "    seed=seed)"
      ],
      "execution_count": 48,
      "outputs": [
        {
          "output_type": "stream",
          "text": [
            "Found 25000 files belonging to 2 classes.\n",
            "Using 5000 files for validation.\n"
          ],
          "name": "stdout"
        }
      ]
    },
    {
      "cell_type": "code",
      "metadata": {
        "colab": {
          "base_uri": "https://localhost:8080/"
        },
        "id": "dud_lLronJsO",
        "outputId": "d9cc6849-9f18-4935-fa34-557b46fec8ac"
      },
      "source": [
        "raw_test_ds = tf.keras.preprocessing.text_dataset_from_directory(\r\n",
        "    'aclImdb/test', \r\n",
        "    batch_size=batch_size)"
      ],
      "execution_count": 49,
      "outputs": [
        {
          "output_type": "stream",
          "text": [
            "Found 25000 files belonging to 2 classes.\n"
          ],
          "name": "stdout"
        }
      ]
    },
    {
      "cell_type": "markdown",
      "metadata": {
        "id": "4q_l9XSZrIh8"
      },
      "source": [
        "## 3. Prepare the Dataset for Training"
      ]
    },
    {
      "cell_type": "markdown",
      "metadata": {
        "id": "OAdNQ0z9reON"
      },
      "source": [
        "Here, standardize, tokenize, and vectorize the data using the helpful **preprocessing.TextVectorization** layer\r\n",
        "\r\n",
        "+ Standardization refers to preprocessing the text, typically to remove punctuation or HTML elements to simplify the dataset.\r\n",
        "\r\n",
        "+ Tokenization refers to splitting strings into tokens.\r\n",
        "\r\n",
        "+ Vectorization refers to converting tokens into numbers so they can be fed into a neural network.\r\n",
        "\r\n",
        "+ All of these tasks can be accomplished with this layer."
      ]
    },
    {
      "cell_type": "markdown",
      "metadata": {
        "id": "7pj_zosir2zH"
      },
      "source": [
        "The reviews contain various HTML tags like <br />. These tags will not be removed by the default standardizer in the **TextVectorization layer**. So, write a custom standardization function to remove the HTML."
      ]
    },
    {
      "cell_type": "code",
      "metadata": {
        "id": "xRlATqz6nX98"
      },
      "source": [
        "def custom_standardization(input_data):\r\n",
        "  lowercase = tf.strings.lower(input_data)\r\n",
        "  stripped_html = tf.strings.regex_replace(lowercase, '<br />', ' ')\r\n",
        "  return tf.strings.regex_replace(stripped_html,\r\n",
        "                                  '[%s]' % re.escape(string.punctuation),\r\n",
        "                                  '')"
      ],
      "execution_count": 50,
      "outputs": []
    },
    {
      "cell_type": "markdown",
      "metadata": {
        "id": "hJ1Cbc88sQnT"
      },
      "source": [
        "Now, create a TextVectorization layer. This layer is to standardize, tokenize, and vectorize our data. Set the output_mode to int to create unique integer indices for each token.\r\n",
        "\r\n",
        "+ Define some constants for the model, like an explicit maximum **sequence_length**, which will cause the layer to pad or truncate sequences to exactly sequence_length values."
      ]
    },
    {
      "cell_type": "code",
      "metadata": {
        "id": "YvV49C1rsOaG"
      },
      "source": [
        "max_features = 10000\r\n",
        "sequence_length = 250\r\n",
        "\r\n",
        "vectorize_layer = TextVectorization(\r\n",
        "    standardize=custom_standardization,\r\n",
        "    max_tokens=max_features,\r\n",
        "    output_mode='int',\r\n",
        "    output_sequence_length=sequence_length)"
      ],
      "execution_count": 51,
      "outputs": []
    },
    {
      "cell_type": "markdown",
      "metadata": {
        "id": "kVHEuh-btIa-"
      },
      "source": [
        "Call **adapt** to fit the state of the preprocessing layer to the dataset. This will cause the model to build an index of strings to integers."
      ]
    },
    {
      "cell_type": "code",
      "metadata": {
        "id": "7PyOFQbutVx-"
      },
      "source": [
        "# Make a text-only dataset (without labels), then call adapt\r\n",
        "train_text = raw_train_ds.map(lambda x, y: x)\r\n",
        "vectorize_layer.adapt(train_text)"
      ],
      "execution_count": 52,
      "outputs": []
    },
    {
      "cell_type": "markdown",
      "metadata": {
        "id": "Y-8TnjkVtidH"
      },
      "source": [
        "Create a function to see the result of using this layer to preprocess some data."
      ]
    },
    {
      "cell_type": "code",
      "metadata": {
        "id": "JAS9MWKmtCke"
      },
      "source": [
        "def vectorize_text(text, label):\r\n",
        "  text = tf.expand_dims(text, -1)\r\n",
        "  return vectorize_layer(text), label"
      ],
      "execution_count": 53,
      "outputs": []
    },
    {
      "cell_type": "code",
      "metadata": {
        "colab": {
          "base_uri": "https://localhost:8080/"
        },
        "id": "9rMlb31-tWeZ",
        "outputId": "a8e28100-6f22-495c-da91-43abddea2f16"
      },
      "source": [
        "# retrieve a batch (of 32 reviews and labels) from the dataset\r\n",
        "text_batch, label_batch = next(iter(raw_train_ds))\r\n",
        "first_review, first_label = text_batch[0], label_batch[0]\r\n",
        "print(\"Review\", first_review)\r\n",
        "print(\"Label\", raw_train_ds.class_names[first_label])\r\n",
        "print(\"Vectorized review\", vectorize_text(first_review, first_label))"
      ],
      "execution_count": 54,
      "outputs": [
        {
          "output_type": "stream",
          "text": [
            "Review tf.Tensor(b'Silent Night, Deadly Night 5 is the very last of the series, and like part 4, it\\'s unrelated to the first three except by title and the fact that it\\'s a Christmas-themed horror flick.<br /><br />Except to the oblivious, there\\'s some obvious things going on here...Mickey Rooney plays a toymaker named Joe Petto and his creepy son\\'s name is Pino. Ring a bell, anyone? Now, a little boy named Derek heard a knock at the door one evening, and opened it to find a present on the doorstep for him. Even though it said \"don\\'t open till Christmas\", he begins to open it anyway but is stopped by his dad, who scolds him and sends him to bed, and opens the gift himself. Inside is a little red ball that sprouts Santa arms and a head, and proceeds to kill dad. Oops, maybe he should have left well-enough alone. Of course Derek is then traumatized by the incident since he watched it from the stairs, but he doesn\\'t grow up to be some killer Santa, he just stops talking.<br /><br />There\\'s a mysterious stranger lurking around, who seems very interested in the toys that Joe Petto makes. We even see him buying a bunch when Derek\\'s mom takes him to the store to find a gift for him to bring him out of his trauma. And what exactly is this guy doing? Well, we\\'re not sure but he does seem to be taking these toys apart to see what makes them tick. He does keep his landlord from evicting him by promising him to pay him in cash the next day and presents him with a \"Larry the Larvae\" toy for his kid, but of course \"Larry\" is not a good toy and gets out of the box in the car and of course, well, things aren\\'t pretty.<br /><br />Anyway, eventually what\\'s going on with Joe Petto and Pino is of course revealed, and as with the old story, Pino is not a \"real boy\". Pino is probably even more agitated and naughty because he suffers from \"Kenitalia\" (a smooth plastic crotch) so that could account for his evil ways. And the identity of the lurking stranger is revealed too, and there\\'s even kind of a happy ending of sorts. Whee.<br /><br />A step up from part 4, but not much of one. Again, Brian Yuzna is involved, and Screaming Mad George, so some decent special effects, but not enough to make this great. A few leftovers from part 4 are hanging around too, like Clint Howard and Neith Hunter, but that doesn\\'t really make any difference. Anyway, I now have seeing the whole series out of my system. Now if I could get some of it out of my brain. 4 out of 5.', shape=(), dtype=string)\n",
            "Label neg\n",
            "Vectorized review (<tf.Tensor: shape=(1, 250), dtype=int64, numpy=\n",
            "array([[1287,  313, 2380,  313,  661,    7,    2,   52,  229,    5,    2,\n",
            "         200,    3,   38,  170,  669,   29, 5492,    6,    2,   83,  297,\n",
            "         549,   32,  410,    3,    2,  186,   12,   29,    4,    1,  191,\n",
            "         510,  549,    6,    2, 8229,  212,   46,  576,  175,  168,   20,\n",
            "           1, 5361,  290,    4,    1,  761,  969,    1,    3,   24,  935,\n",
            "        2271,  393,    7,    1, 1675,    4, 3747,  250,  148,    4,  112,\n",
            "         436,  761, 3529,  548,    4, 3633,   31,    2, 1331,   28, 2096,\n",
            "           3, 2912,    9,    6,  163,    4, 1006,   20,    2,    1,   15,\n",
            "          85,   53,  147,    9,  292,   89,  959, 2314,  984,   27,  762,\n",
            "           6,  959,    9,  564,   18,    7, 2140,   32,   24, 1254,   36,\n",
            "           1,   85,    3, 3298,   85,    6, 1410,    3, 1936,    2, 3408,\n",
            "         301,  965,    7,    4,  112,  740, 1977,   12,    1, 2014, 2772,\n",
            "           3,    4,  428,    3, 5177,    6,  512, 1254,    1,  278,   27,\n",
            "         139,   25,  308,    1,  579,    5,  259, 3529,    7,   92, 8981,\n",
            "          32,    2, 3842,  230,   27,  289,    9,   35,    2, 5712,   18,\n",
            "          27,  144, 2166,   56,    6,   26,   46,  466, 2014,   27,   40,\n",
            "        2745,  657,  212,    4, 1376, 3002, 7080,  183,   36,  180,   52,\n",
            "         920,    8,    2, 4028,   12,  969,    1,  158,   71,   53,   67,\n",
            "          85, 2754,    4,  734,   51,    1, 1611,  294,   85,    6,    2,\n",
            "        1164,    6,  163,    4, 3408,   15,   85,    6,  717,   85,   44,\n",
            "           5,   24, 7158,    3,   48,  604,    7,   11,  225,  384,   73,\n",
            "          65,   21,  242,   18,   27,  120,  295,    6,   26,  667,  129,\n",
            "        4028,  948,    6,   67,   48,  158,   93,    1]])>, <tf.Tensor: shape=(), dtype=int32, numpy=0>)\n"
          ],
          "name": "stdout"
        }
      ]
    },
    {
      "cell_type": "markdown",
      "metadata": {
        "id": "xtHzq-usuGy_"
      },
      "source": [
        "Here, each token has been replaced by an integer. Lookup the token (string) that each integer corresponds to by calling .get_vocabulary() on the layer."
      ]
    },
    {
      "cell_type": "code",
      "metadata": {
        "colab": {
          "base_uri": "https://localhost:8080/"
        },
        "id": "tQEkfypSt0Es",
        "outputId": "0f345a3b-ca15-46e0-cd1f-03df70cf7816"
      },
      "source": [
        "print(\"1287 ---> \",vectorize_layer.get_vocabulary()[1287])\r\n",
        "print(\" 313 ---> \",vectorize_layer.get_vocabulary()[313])\r\n",
        "print(\" 301 ---> \",vectorize_layer.get_vocabulary()[301])\r\n",
        "print(\" 7158 ---> \",vectorize_layer.get_vocabulary()[7158])\r\n",
        "print('Vocabulary size: {}'.format(len(vectorize_layer.get_vocabulary())))"
      ],
      "execution_count": 55,
      "outputs": [
        {
          "output_type": "stream",
          "text": [
            "1287 --->  silent\n",
            " 313 --->  night\n",
            " 301 --->  himself\n",
            " 7158 --->  trauma\n",
            "Vocabulary size: 10000\n"
          ],
          "name": "stdout"
        }
      ]
    },
    {
      "cell_type": "markdown",
      "metadata": {
        "id": "-hgtMjt9vl6I"
      },
      "source": [
        "To train your model. As a final preprocessing step, apply the TextVectorization layer which is created earlier to the train, validation, and test dataset."
      ]
    },
    {
      "cell_type": "code",
      "metadata": {
        "id": "Y0_blV7lvz1Z"
      },
      "source": [
        "train_ds = raw_train_ds.map(vectorize_text)\r\n",
        "val_ds = raw_val_ds.map(vectorize_text)\r\n",
        "test_ds = raw_test_ds.map(vectorize_text)"
      ],
      "execution_count": 56,
      "outputs": []
    },
    {
      "cell_type": "markdown",
      "metadata": {
        "id": "rSDhtTwlurS0"
      },
      "source": [
        "## 4. Configure the Dataset for Perfomance."
      ]
    },
    {
      "cell_type": "markdown",
      "metadata": {
        "id": "p--55QNyvDQk"
      },
      "source": [
        "These are two important methods you should use when loading data to make sure that I/O does not become blocking.\r\n",
        "\r\n",
        "+ *.cache()* keeps data in memory after it's loaded off disk. This will ensure the dataset does not become a bottleneck while training your model.\r\n",
        "\r\n",
        "+ *.prefetch()* overlaps data preprocessing and model execution while training."
      ]
    },
    {
      "cell_type": "code",
      "metadata": {
        "id": "gND8w1JjvbVO"
      },
      "source": [
        "AUTOTUNE = tf.data.AUTOTUNE\r\n",
        "\r\n",
        "train_ds = train_ds.cache().prefetch(buffer_size=AUTOTUNE)\r\n",
        "val_ds = val_ds.cache().prefetch(buffer_size=AUTOTUNE)\r\n",
        "test_ds = test_ds.cache().prefetch(buffer_size=AUTOTUNE)"
      ],
      "execution_count": 57,
      "outputs": []
    },
    {
      "cell_type": "markdown",
      "metadata": {
        "id": "GTVO74bXv8g6"
      },
      "source": [
        "## 4. Create Model\r\n",
        "\r\n",
        "Time to create the Model."
      ]
    },
    {
      "cell_type": "code",
      "metadata": {
        "id": "09azppJUub0a"
      },
      "source": [
        "embedding_dim = 16"
      ],
      "execution_count": 27,
      "outputs": []
    },
    {
      "cell_type": "code",
      "metadata": {
        "colab": {
          "base_uri": "https://localhost:8080/"
        },
        "id": "KlMW8b0uwLWJ",
        "outputId": "57c851c5-67f5-4474-8f41-199fd247ef20"
      },
      "source": [
        "model = tf.keras.Sequential([\r\n",
        "                             layers.Embedding(max_features + 1, embedding_dim),\r\n",
        "                             layers.Dropout(0.2),\r\n",
        "                             layers.GlobalAveragePooling1D(),\r\n",
        "                             layers.Dropout(0.2),\r\n",
        "                             layers.Dense(4)\r\n",
        "])\r\n",
        "\r\n",
        "model.summary()"
      ],
      "execution_count": 58,
      "outputs": [
        {
          "output_type": "stream",
          "text": [
            "Model: \"sequential_2\"\n",
            "_________________________________________________________________\n",
            "Layer (type)                 Output Shape              Param #   \n",
            "=================================================================\n",
            "embedding_1 (Embedding)      (None, None, 16)          160016    \n",
            "_________________________________________________________________\n",
            "dropout_2 (Dropout)          (None, None, 16)          0         \n",
            "_________________________________________________________________\n",
            "global_average_pooling1d_1 ( (None, 16)                0         \n",
            "_________________________________________________________________\n",
            "dropout_3 (Dropout)          (None, 16)                0         \n",
            "_________________________________________________________________\n",
            "dense_1 (Dense)              (None, 4)                 68        \n",
            "=================================================================\n",
            "Total params: 160,084\n",
            "Trainable params: 160,084\n",
            "Non-trainable params: 0\n",
            "_________________________________________________________________\n"
          ],
          "name": "stdout"
        }
      ]
    },
    {
      "cell_type": "markdown",
      "metadata": {
        "id": "LiMtUIvww8tn"
      },
      "source": [
        "The layers are stacked sequentially to build the classifier.\r\n",
        "\r\n",
        "1. The first layer is an Embedding layer. This layer takes the integer-encoded reviews and looks up an embedding vector for each word-index. These vectors are learned as the model trains. The vectors add a dimension to the output array. The resulting dimensions are: (batch, sequence, embedding).\r\n",
        "\r\n",
        "2. Next, a GlobalAveragePooling1D layer returns a fixed-length output vector for each example by averaging over the sequence dimension. This allows the model to handle input of variable length, in the simplest way possible.\r\n",
        "\r\n",
        "3. This fixed-length output vector is piped through a fully-connected (Dense) layer with 16 hidden units.\r\n",
        "\r\n",
        "4. The last layer is densely connected with a single output node."
      ]
    },
    {
      "cell_type": "markdown",
      "metadata": {
        "id": "jiACwetkxAjy"
      },
      "source": [
        "## 6. Loss Function and Optimizer\r\n",
        "A model needs a loss function and an optimizer for training.\r\n",
        "\r\n",
        "+ Loss Function =  **losses.BinaryCrossentropy** --- Since this is a binary classification problem and the model outputs a probability (a single-unit layer with a sigmoid activation)\r\n",
        "\r\n",
        "+ Optimizer = \"adam\"\r\n",
        "\r\n",
        "\r\n",
        "\r\n"
      ]
    },
    {
      "cell_type": "code",
      "metadata": {
        "id": "mKD-GlL5w_yR"
      },
      "source": [
        "model.compile(loss=losses.SparseCategoricalCrossentropy(from_logits=True),\r\n",
        "              optimizer='adam',\r\n",
        "              metrics=tf.metrics.BinaryAccuracy(threshold=0.0))"
      ],
      "execution_count": 59,
      "outputs": []
    },
    {
      "cell_type": "markdown",
      "metadata": {
        "id": "aeQgQLEMyVfQ"
      },
      "source": [
        "## 7. Train the Model.\r\n",
        "\r\n",
        "Train the model by passing the dataset object to the fit method.\r\n"
      ]
    },
    {
      "cell_type": "code",
      "metadata": {
        "colab": {
          "base_uri": "https://localhost:8080/"
        },
        "id": "MN2myXCBwzF_",
        "outputId": "c0dfb2cd-c7ff-4797-8046-305e5c852abe"
      },
      "source": [
        "epochs = 10\r\n",
        "history = model.fit(\r\n",
        "    train_ds,\r\n",
        "    validation_data=val_ds,\r\n",
        "    epochs=epochs)"
      ],
      "execution_count": 60,
      "outputs": [
        {
          "output_type": "stream",
          "text": [
            "Epoch 1/10\n",
            "625/625 [==============================] - 12s 19ms/step - loss: 1.0553 - binary_accuracy: 0.4982 - val_loss: 0.6726 - val_binary_accuracy: 0.5000\n",
            "Epoch 2/10\n",
            "625/625 [==============================] - 5s 8ms/step - loss: 0.6607 - binary_accuracy: 0.5000 - val_loss: 0.6011 - val_binary_accuracy: 0.5000\n",
            "Epoch 3/10\n",
            "625/625 [==============================] - 5s 8ms/step - loss: 0.5896 - binary_accuracy: 0.5000 - val_loss: 0.5290 - val_binary_accuracy: 0.5000\n",
            "Epoch 4/10\n",
            "625/625 [==============================] - 5s 8ms/step - loss: 0.5189 - binary_accuracy: 0.5000 - val_loss: 0.4647 - val_binary_accuracy: 0.5000\n",
            "Epoch 5/10\n",
            "625/625 [==============================] - 5s 8ms/step - loss: 0.4551 - binary_accuracy: 0.5000 - val_loss: 0.4135 - val_binary_accuracy: 0.5002\n",
            "Epoch 6/10\n",
            "625/625 [==============================] - 5s 8ms/step - loss: 0.3985 - binary_accuracy: 0.5005 - val_loss: 0.3761 - val_binary_accuracy: 0.5013\n",
            "Epoch 7/10\n",
            "625/625 [==============================] - 5s 8ms/step - loss: 0.3602 - binary_accuracy: 0.5015 - val_loss: 0.3498 - val_binary_accuracy: 0.5030\n",
            "Epoch 8/10\n",
            "625/625 [==============================] - 5s 8ms/step - loss: 0.3283 - binary_accuracy: 0.5022 - val_loss: 0.3309 - val_binary_accuracy: 0.5031\n",
            "Epoch 9/10\n",
            "625/625 [==============================] - 5s 7ms/step - loss: 0.3032 - binary_accuracy: 0.5023 - val_loss: 0.3174 - val_binary_accuracy: 0.5033\n",
            "Epoch 10/10\n",
            "625/625 [==============================] - 4s 7ms/step - loss: 0.2816 - binary_accuracy: 0.5037 - val_loss: 0.3074 - val_binary_accuracy: 0.5045\n"
          ],
          "name": "stdout"
        }
      ]
    },
    {
      "cell_type": "markdown",
      "metadata": {
        "id": "-ivFWpMay85H"
      },
      "source": [
        "## 8. Evaluate the Model\r\n",
        "\r\n",
        "See how the model performs. Two values will be returned. \r\n",
        "+ Loss (a number which represents error, lower values are better), and \r\n",
        "+ Accuracy."
      ]
    },
    {
      "cell_type": "code",
      "metadata": {
        "colab": {
          "base_uri": "https://localhost:8080/"
        },
        "id": "c41ZBEnuyjkw",
        "outputId": "48806c04-4788-4237-a7ce-766690da6ded"
      },
      "source": [
        "loss, accuracy = model.evaluate(test_ds)\r\n",
        "\r\n",
        "print(\"Loss:\", loss)\r\n",
        "print(\"Accuracy:\", accuracy)"
      ],
      "execution_count": 61,
      "outputs": [
        {
          "output_type": "stream",
          "text": [
            "782/782 [==============================] - 11s 14ms/step - loss: 0.3241 - binary_accuracy: 0.5076\n",
            "Loss: 0.3241260349750519\n",
            "Accuracy: 0.5076000094413757\n"
          ],
          "name": "stdout"
        }
      ]
    },
    {
      "cell_type": "markdown",
      "metadata": {
        "id": "wD2XFOrDztJb"
      },
      "source": [
        "Accuracy is about 50% only"
      ]
    },
    {
      "cell_type": "markdown",
      "metadata": {
        "id": "qly4z8O2zzJz"
      },
      "source": [
        "## 9. Create plot of Accuracy and Loss over time.\r\n",
        "\r\n",
        "model.fit() returns a History object that contains a dictionary with everything that happened during training."
      ]
    },
    {
      "cell_type": "code",
      "metadata": {
        "colab": {
          "base_uri": "https://localhost:8080/"
        },
        "id": "IBGrnf-1zgND",
        "outputId": "84999670-3fde-4226-afd4-02e10fd7585b"
      },
      "source": [
        "history_dict = history.history\r\n",
        "history_dict.keys()"
      ],
      "execution_count": 62,
      "outputs": [
        {
          "output_type": "execute_result",
          "data": {
            "text/plain": [
              "dict_keys(['loss', 'binary_accuracy', 'val_loss', 'val_binary_accuracy'])"
            ]
          },
          "metadata": {
            "tags": []
          },
          "execution_count": 62
        }
      ]
    },
    {
      "cell_type": "markdown",
      "metadata": {
        "id": "haWb9vCr0PcH"
      },
      "source": [
        "There are four entries: one for each monitored metric during training and validation."
      ]
    },
    {
      "cell_type": "code",
      "metadata": {
        "colab": {
          "base_uri": "https://localhost:8080/",
          "height": 295
        },
        "id": "fZcyvJ8o0Mu_",
        "outputId": "32c27335-a510-4cea-f530-6a4c2efa2483"
      },
      "source": [
        "acc = history_dict['binary_accuracy']\r\n",
        "val_acc = history_dict['val_binary_accuracy']\r\n",
        "loss = history_dict['loss']\r\n",
        "val_loss = history_dict['val_loss']\r\n",
        "\r\n",
        "epochs = range(1, len(acc) + 1)\r\n",
        "\r\n",
        "# \"bo\" is for \"blue dot\"\r\n",
        "plt.plot(epochs, loss, 'bo', label='Training loss')\r\n",
        "# b is for \"solid blue line\"\r\n",
        "plt.plot(epochs, val_loss, 'b', label='Validation loss')\r\n",
        "plt.title('Training and validation loss')\r\n",
        "plt.xlabel('Epochs')\r\n",
        "plt.ylabel('Loss')\r\n",
        "plt.legend()\r\n",
        "\r\n",
        "plt.show()"
      ],
      "execution_count": 63,
      "outputs": [
        {
          "output_type": "display_data",
          "data": {
            "image/png": "[encoded data removed]",
            "text/plain": [
              "<Figure size 432x288 with 1 Axes>"
            ]
          },
          "metadata": {
            "tags": [],
            "needs_background": "light"
          }
        }
      ]
    },
    {
      "cell_type": "code",
      "metadata": {
        "colab": {
          "base_uri": "https://localhost:8080/",
          "height": 295
        },
        "id": "7IlVw0Hm0exu",
        "outputId": "a3dc4fb3-7e1e-4198-a951-aa0b5ce315c0"
      },
      "source": [
        "plt.plot(epochs, acc, 'bo', label='Training acc')\r\n",
        "plt.plot(epochs, val_acc, 'b', label='Validation acc')\r\n",
        "plt.title('Training and validation accuracy')\r\n",
        "plt.xlabel('Epochs')\r\n",
        "plt.ylabel('Accuracy')\r\n",
        "plt.legend(loc='lower right')\r\n",
        "\r\n",
        "plt.show()"
      ],
      "execution_count": 64,
      "outputs": [
        {
          "output_type": "display_data",
          "data": {
            "image/png": "[encoded data removed]",
            "text/plain": [
              "<Figure size 432x288 with 1 Axes>"
            ]
          },
          "metadata": {
            "tags": [],
            "needs_background": "light"
          }
        }
      ]
    },
    {
      "cell_type": "markdown",
      "metadata": {
        "id": "eP9tTXfy00RB"
      },
      "source": [
        "In this plot, the dots represent the training loss and accuracy, and the solid lines are the validation loss and accuracy.\r\n",
        "\r\n",
        "+ Training loss decreases with each epoch. Training acc increases but not in an exponential way as seen in the binary classification. So, here the training acc is low in this model.\r\n",
        "\r\n",
        "+ The training accuracy is less that the validation acc here in the second figure. For multi class classification."
      ]
    },
    {
      "cell_type": "markdown",
      "metadata": {
        "id": "7v46pgRJ1ar6"
      },
      "source": [
        "### note:-\r\n",
        "\r\n",
        "For this particular case, you could prevent overfitting by simply stopping the training when the validation accuracy is no longer increasing. One way to do so is to use the **tf.keras.callbacks.EarlyStopping** callback."
      ]
    },
    {
      "cell_type": "markdown",
      "metadata": {
        "id": "96b5-avB1nal"
      },
      "source": [
        "## 10. Export Model.\r\n",
        "\r\n",
        "In the code above, we have applied the **TextVectorization** layer to the dataset before feeding text to the model. \r\n",
        "+ If you want to make your model capable of processing raw strings (for example, to simplify deploying it), you can include the TextVectorization layer inside your model. \r\n",
        "+ To do so, you can create a new model using the weights you just trained."
      ]
    },
    {
      "cell_type": "code",
      "metadata": {
        "colab": {
          "base_uri": "https://localhost:8080/"
        },
        "id": "2hv1fxpJ0meJ",
        "outputId": "3b58881b-030e-467f-9ad6-a7c97e83d543"
      },
      "source": [
        "export_model = tf.keras.Sequential([\r\n",
        "  vectorize_layer,\r\n",
        "  model,\r\n",
        "  layers.Activation('sigmoid')\r\n",
        "])\r\n",
        "\r\n",
        "export_model.compile(\r\n",
        "    loss=losses.SparseCategoricalCrossentropy(from_logits=False), optimizer=\"adam\", metrics=['accuracy']\r\n",
        ")\r\n",
        "\r\n",
        "# Test it with `raw_test_ds`, which yields raw strings\r\n",
        "loss, accuracy = export_model.evaluate(raw_test_ds)\r\n",
        "print(accuracy)"
      ],
      "execution_count": 65,
      "outputs": [
        {
          "output_type": "stream",
          "text": [
            "782/782 [==============================] - 11s 14ms/step - loss: 0.3323 - accuracy: 0.8615\n",
            "0.8678799867630005\n"
          ],
          "name": "stdout"
        }
      ]
    },
    {
      "cell_type": "markdown",
      "metadata": {
        "id": "4n6TVnvR2dkq"
      },
      "source": [
        "### Inference on New Data.\r\n",
        "\r\n",
        "+ Get predictions for new examples, call **model.predict()**"
      ]
    },
    {
      "cell_type": "code",
      "metadata": {
        "id": "VCq0RhAQ2WA3"
      },
      "source": [
        "examples = [\r\n",
        "  \"The movie was great!\",\r\n",
        "  \"The movie was okay.\",\r\n",
        "  \"The movie was terrible...\"\r\n",
        "]"
      ],
      "execution_count": 66,
      "outputs": []
    },
    {
      "cell_type": "code",
      "metadata": {
        "colab": {
          "base_uri": "https://localhost:8080/"
        },
        "id": "bLcGHxkV2us6",
        "outputId": "b79343ae-7540-4713-f9c5-04a1e24ea47a"
      },
      "source": [
        "export_model.predict(examples)"
      ],
      "execution_count": 67,
      "outputs": [
        {
          "output_type": "execute_result",
          "data": {
            "text/plain": [
              "array([[8.4011674e-01, 8.9703727e-01, 8.1726909e-04, 1.2494028e-03],\n",
              "       [8.7778181e-01, 8.6565423e-01, 8.1047416e-04, 1.2416840e-03],\n",
              "       [8.9250696e-01, 8.4788930e-01, 8.1053376e-04, 1.2443662e-03]],\n",
              "      dtype=float32)"
            ]
          },
          "metadata": {
            "tags": []
          },
          "execution_count": 67
        }
      ]
    },
    {
      "cell_type": "code",
      "metadata": {
        "id": "3H3iKT25204a"
      },
      "source": [
        ""
      ],
      "execution_count": null,
      "outputs": []
    }
  ]
}