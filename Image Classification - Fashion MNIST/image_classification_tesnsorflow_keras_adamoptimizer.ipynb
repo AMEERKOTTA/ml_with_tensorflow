{
  "nbformat": 4,
  "nbformat_minor": 0,
  "metadata": {
    "colab": {
      "name": "image_classification_tesnsorflow_keras.ipynb",
      "provenance": [],
      "collapsed_sections": []
    },
    "kernelspec": {
      "name": "python3",
      "display_name": "Python 3"
    }
  },
  "cells": [
    {
      "cell_type": "markdown",
      "metadata": {
        "id": "pxBhbIvmOjHE"
      },
      "source": [
        "## **Image Classification using Tensorflow and Keras**"
      ]
    },
    {
      "cell_type": "markdown",
      "metadata": {
        "id": "cPpeQDEHO0FD"
      },
      "source": [
        "**This is a Neural Network Model to classify images of clothing like sneakers and shirts. This notebook uses tf.keras, a high level API to build and train Models in Tensorflow**"
      ]
    },
    {
      "cell_type": "markdown",
      "metadata": {
        "id": "tdDv_spAPl3P"
      },
      "source": [
        "**Contents**\r\n",
        "\r\n",
        "\r\n",
        "1.   Import the Fashion MNIST Dataset.\r\n",
        "2.   Explore the Dataset.\r\n",
        "3.   Preprocess the Data.\r\n",
        "4.   Build a Model.\r\n",
        "          *   Set up Layers of Neural Network\r\n",
        "          *   Compile the Model\r\n",
        "5.   Train the Model\r\n",
        "          *   Feed the Model\r\n",
        "          *   Evaluate Accuracy\r\n",
        "          *   Make Predictions\r\n",
        "          *   Verify Predictions\r\n",
        "6.   Use the trained model to Predict.\r\n",
        "\r\n",
        "\r\n",
        "\r\n",
        "\r\n",
        "\r\n"
      ]
    },
    {
      "cell_type": "code",
      "metadata": {
        "id": "b1p3S8NKPfG_"
      },
      "source": [
        "# tensorflow and tf.keras\r\n",
        "import tensorflow as tf\r\n",
        "\r\n",
        "# Helper Libraries\r\n",
        "import numpy as np\r\n",
        "import matplotlib.pyplot as plt"
      ],
      "execution_count": 4,
      "outputs": []
    },
    {
      "cell_type": "code",
      "metadata": {
        "colab": {
          "base_uri": "https://localhost:8080/"
        },
        "id": "jZOdiSWWRFrY",
        "outputId": "4b21ba2e-e989-4c7b-f9d4-538d226bf229"
      },
      "source": [
        "print(tf.__version__)"
      ],
      "execution_count": 5,
      "outputs": [
        {
          "output_type": "stream",
          "text": [
            "2.4.1\n"
          ],
          "name": "stdout"
        }
      ]
    },
    {
      "cell_type": "markdown",
      "metadata": {
        "id": "OdlsHD_qSCDf"
      },
      "source": [
        "**1. Import Fashion MNIST Dataset**\r\n",
        "+ This Dataset Contains 70,000 greyscale images in 10 categories.\r\n",
        "+ Each Image shows individual articles of clothing at low resolution (28*28 pixels)\r\n",
        "+ Here, 60,000 images are used to train the network and 10,000 to evaluate how accurately the network learned to classify images."
      ]
    },
    {
      "cell_type": "code",
      "metadata": {
        "colab": {
          "base_uri": "https://localhost:8080/"
        },
        "id": "UtedHOTTR8Fl",
        "outputId": "4f1ea8c4-f71a-47c9-c251-b63c6091e961"
      },
      "source": [
        "fashion_mnist = tf.keras.datasets.fashion_mnist\r\n",
        "(train_images, train_labels),(test_images, test_labels) = fashion_mnist.load_data()"
      ],
      "execution_count": 6,
      "outputs": [
        {
          "output_type": "stream",
          "text": [
            "Downloading data from https://storage.googleapis.com/tensorflow/tf-keras-datasets/train-labels-idx1-ubyte.gz\n",
            "32768/29515 [=================================] - 0s 0us/step\n",
            "Downloading data from https://storage.googleapis.com/tensorflow/tf-keras-datasets/train-images-idx3-ubyte.gz\n",
            "26427392/26421880 [==============================] - 0s 0us/step\n",
            "Downloading data from https://storage.googleapis.com/tensorflow/tf-keras-datasets/t10k-labels-idx1-ubyte.gz\n",
            "8192/5148 [===============================================] - 0s 0us/step\n",
            "Downloading data from https://storage.googleapis.com/tensorflow/tf-keras-datasets/t10k-images-idx3-ubyte.gz\n",
            "4423680/4422102 [==============================] - 0s 0us/step\n"
          ],
          "name": "stdout"
        }
      ]
    },
    {
      "cell_type": "markdown",
      "metadata": {
        "id": "gsusvGgKTtDb"
      },
      "source": [
        "Loading dataset return 4 Numpy arrays\r\n",
        "+ train_images & train_labels which are training set used to train the network\r\n",
        "+ test_images & test_labels which are test set used to test the model."
      ]
    },
    {
      "cell_type": "markdown",
      "metadata": {
        "id": "c8aeyozrUKyX"
      },
      "source": [
        "+ Images are 28*28 numpy arrays with pixel values ranging from 0 to 255.\r\n",
        "+ The labels are an array of integers ranging from 0 to 9\r\n",
        "\r\n",
        "\r\n",
        "Each image is mapped to single label\r\n",
        "\r\n",
        "\r\n",
        "\r\n",
        "\r\n",
        "\r\n"
      ]
    },
    {
      "cell_type": "code",
      "metadata": {
        "id": "mMhfzx2TTmjs"
      },
      "source": [
        "class_names = [\"T-shirt/top\",\"Trouser\",\"Pullover\",\"Dress\",\"Coat\",\"Sandal\",\"Shirt\",\"Sneaker\",\"Bag\",\"Ankle boot\"]"
      ],
      "execution_count": 7,
      "outputs": []
    },
    {
      "cell_type": "markdown",
      "metadata": {
        "id": "hdVTUOG8VZ6w"
      },
      "source": [
        "**2. Explore Dataset**\r\n",
        "\r\n",
        "Explore the Dataset before training the data."
      ]
    },
    {
      "cell_type": "code",
      "metadata": {
        "colab": {
          "base_uri": "https://localhost:8080/"
        },
        "id": "HboGu2AgVQMw",
        "outputId": "e07cec61-e4f7-472a-d0c2-62c60f0bf415"
      },
      "source": [
        "train_images.shape"
      ],
      "execution_count": 8,
      "outputs": [
        {
          "output_type": "execute_result",
          "data": {
            "text/plain": [
              "(60000, 28, 28)"
            ]
          },
          "metadata": {
            "tags": []
          },
          "execution_count": 8
        }
      ]
    },
    {
      "cell_type": "code",
      "metadata": {
        "colab": {
          "base_uri": "https://localhost:8080/"
        },
        "id": "twzHQCkhVmCP",
        "outputId": "f8d4ea09-edc5-40f5-fbe4-372ff5f51826"
      },
      "source": [
        "train_labels.shape"
      ],
      "execution_count": 9,
      "outputs": [
        {
          "output_type": "execute_result",
          "data": {
            "text/plain": [
              "(60000,)"
            ]
          },
          "metadata": {
            "tags": []
          },
          "execution_count": 9
        }
      ]
    },
    {
      "cell_type": "code",
      "metadata": {
        "colab": {
          "base_uri": "https://localhost:8080/"
        },
        "id": "4KnDE5zUVrCQ",
        "outputId": "b3dd69a6-0e61-4622-938a-0e39f8ee123f"
      },
      "source": [
        "test_images.shape"
      ],
      "execution_count": 10,
      "outputs": [
        {
          "output_type": "execute_result",
          "data": {
            "text/plain": [
              "(10000, 28, 28)"
            ]
          },
          "metadata": {
            "tags": []
          },
          "execution_count": 10
        }
      ]
    },
    {
      "cell_type": "code",
      "metadata": {
        "colab": {
          "base_uri": "https://localhost:8080/"
        },
        "id": "ciOWoostVtWc",
        "outputId": "99988512-41e6-460f-a151-68bb2f0c3fa5"
      },
      "source": [
        "test_labels.shape"
      ],
      "execution_count": 11,
      "outputs": [
        {
          "output_type": "execute_result",
          "data": {
            "text/plain": [
              "(10000,)"
            ]
          },
          "metadata": {
            "tags": []
          },
          "execution_count": 11
        }
      ]
    },
    {
      "cell_type": "markdown",
      "metadata": {
        "id": "wbKQMxA5V2NP"
      },
      "source": [
        "**3. Preprocess Data**\r\n",
        "+ Data must be preprocessed before training the network. \r\n",
        "+ Inspect the first image in the training set and see the pixel value."
      ]
    },
    {
      "cell_type": "code",
      "metadata": {
        "colab": {
          "base_uri": "https://localhost:8080/",
          "height": 265
        },
        "id": "zLtLFjiKVwmV",
        "outputId": "f46f85d9-3a03-453c-94c0-e5cac2c3a27d"
      },
      "source": [
        "plt.figure()\r\n",
        "plt.imshow(train_images[1])\r\n",
        "plt.colorbar()\r\n",
        "plt.grid(False)\r\n",
        "plt.show()"
      ],
      "execution_count": 13,
      "outputs": [
        {
          "output_type": "display_data",
          "data": {
            "image/png": "[encoded data removed]",
            "text/plain": [
              "<Figure size 432x288 with 2 Axes>"
            ]
          },
          "metadata": {
            "tags": [],
            "needs_background": "light"
          }
        }
      ]
    },
    {
      "cell_type": "markdown",
      "metadata": {
        "id": "PVNbavGkWx1M"
      },
      "source": [
        "Scale the value to a range of 0 to 1 before feeding them into Neural Network model."
      ]
    },
    {
      "cell_type": "code",
      "metadata": {
        "id": "y1oKMb_tWmZ9"
      },
      "source": [
        "train_images = train_images / 255.0\r\n",
        "\r\n",
        "test_images = test_images / 255.0"
      ],
      "execution_count": 14,
      "outputs": []
    },
    {
      "cell_type": "markdown",
      "metadata": {
        "id": "5Wi7GPgmYzP2"
      },
      "source": [
        "Verify the data is in correct format by displaying 25 images from the training set.\r\n"
      ]
    },
    {
      "cell_type": "code",
      "metadata": {
        "colab": {
          "base_uri": "https://localhost:8080/",
          "height": 589
        },
        "id": "4ez1v0jrXErF",
        "outputId": "e2143ed8-36f8-4ac8-8d48-1ca6be5a3502"
      },
      "source": [
        "plt.figure(figsize = (10,10))\r\n",
        "\r\n",
        "for i in range(25):\r\n",
        "  plt.subplot(5,5,i+1)\r\n",
        "  plt.xticks([])\r\n",
        "  plt.yticks([])\r\n",
        "  plt.grid(False)\r\n",
        "  plt.imshow(train_images[i], cmap = plt.cm.binary)\r\n",
        "  plt.xlabel(class_names[train_labels[i]])\r\n",
        "\r\n",
        "plt.show()"
      ],
      "execution_count": 16,
      "outputs": [
        {
          "output_type": "display_data",
          "data": {
            "image/png": "[encoded data removed]",
            "text/plain": [
              "<Figure size 720x720 with 25 Axes>"
            ]
          },
          "metadata": {
            "tags": []
          }
        }
      ]
    },
    {
      "cell_type": "markdown",
      "metadata": {
        "id": "uPxt4abwaYwJ"
      },
      "source": [
        "**4. Build Model**\r\n",
        "+ **1. Setup the Layers**"
      ]
    },
    {
      "cell_type": "markdown",
      "metadata": {
        "id": "KG6_3cyDavJ3"
      },
      "source": [
        "+ The Basic Building Block of Neural Networks is Layers.\r\n",
        "+ Layers extracts representation from data fed into them.\r\n",
        "+ Most Deep Learning Problems consists of chaining together single layers.\r\n",
        "+ Most layers have parameters that are learned duirng the training process."
      ]
    },
    {
      "cell_type": "code",
      "metadata": {
        "id": "soKpD9pTaNpS"
      },
      "source": [
        "model = tf.keras.Sequential([\r\n",
        "                            tf.keras.layers.Flatten(input_shape = (28,28)),\r\n",
        "                            tf.keras.layers.Dense(128, activation = \"relu\"),\r\n",
        "                            tf.keras.layers.Dense(10)\r\n",
        "])"
      ],
      "execution_count": 19,
      "outputs": []
    },
    {
      "cell_type": "markdown",
      "metadata": {
        "id": "ecKSZ2iZcWnn"
      },
      "source": [
        "+ First layer in this Network (Flatten) transform the format of images from 2D array (28x28) to 1D (28x28 = 784).\r\n",
        "\r\n",
        "+ This layer will unstack the pixel and line them up.\r\n",
        "+ This layer has no parameter to learn. it only reformats the data.\r\n",
        "\r\n",
        "+ There are two Dense Layer. (Densely Connected) and (Fully Connected).\r\n",
        "+ The first Dense layer has 128 nodes (neuron)\r\n",
        "+ 2nd layer returns a logits array with length of 10\r\n",
        "+ Each node contain a score that indicates the current image belongs to one of 10 classes."
      ]
    },
    {
      "cell_type": "markdown",
      "metadata": {
        "id": "3OadgNqCeT5U"
      },
      "source": [
        "**2. Compile the Model**\r\n",
        "+ Compiling is the setting up of the Model. These are added during the Compile steps.\r\n",
        "\r\n",
        "\r\n",
        "\r\n",
        "1.   **Loss Function** : This measures how accurate the model is during training. ie minimize the  loss function to steer your model in the right direction.\r\n",
        "2.   **Optimizer** : This is how the model is updated based on the data it sees and its loss function.\r\n",
        "3. **Metrics** : Used to monitor training and test steps. Here we use \"accuracy\", the fraction of images that correctly classifies.\r\n",
        "\r\n"
      ]
    },
    {
      "cell_type": "code",
      "metadata": {
        "id": "FUXblp79b8Tz"
      },
      "source": [
        "model.compile(optimizer=\"adam\",\r\n",
        "              loss = tf.keras.losses.SparseCategoricalCrossentropy(from_logits=True),\r\n",
        "              metrics = [\"accuracy\"])"
      ],
      "execution_count": 20,
      "outputs": []
    },
    {
      "cell_type": "markdown",
      "metadata": {
        "id": "SsiJswUJgSwm"
      },
      "source": [
        "**5. Train the Model**\r\n"
      ]
    },
    {
      "cell_type": "markdown",
      "metadata": {
        "id": "HrYSmEAtgajX"
      },
      "source": [
        "Training Neural Networks requires following Steps\r\n",
        "\r\n",
        "1. Feed the training data to the Model\r\n",
        "2. The Model learns to associate images and labels\r\n",
        "3. Make predictions about the test set,\r\n",
        "4. Verify that predicts match the labels the array."
      ]
    },
    {
      "cell_type": "markdown",
      "metadata": {
        "id": "NvbjoLz6hAo6"
      },
      "source": [
        "**1. Feed the Model**"
      ]
    },
    {
      "cell_type": "code",
      "metadata": {
        "id": "uBR-kcFkgI0F",
        "outputId": "1d244b2a-ea31-4bdb-e72c-3bf63192ebff",
        "colab": {
          "base_uri": "https://localhost:8080/"
        }
      },
      "source": [
        "model.fit(train_images, train_labels, epochs = 10)"
      ],
      "execution_count": 21,
      "outputs": [
        {
          "output_type": "stream",
          "text": [
            "Epoch 1/10\n",
            "1875/1875 [==============================] - 4s 2ms/step - loss: 0.6340 - accuracy: 0.7812\n",
            "Epoch 2/10\n",
            "1875/1875 [==============================] - 4s 2ms/step - loss: 0.3816 - accuracy: 0.8614\n",
            "Epoch 3/10\n",
            "1875/1875 [==============================] - 4s 2ms/step - loss: 0.3454 - accuracy: 0.8757\n",
            "Epoch 4/10\n",
            "1875/1875 [==============================] - 4s 2ms/step - loss: 0.3108 - accuracy: 0.8855\n",
            "Epoch 5/10\n",
            "1875/1875 [==============================] - 5s 3ms/step - loss: 0.2909 - accuracy: 0.8939\n",
            "Epoch 6/10\n",
            "1875/1875 [==============================] - 4s 2ms/step - loss: 0.2773 - accuracy: 0.8957\n",
            "Epoch 7/10\n",
            "1875/1875 [==============================] - 4s 2ms/step - loss: 0.2668 - accuracy: 0.8996\n",
            "Epoch 8/10\n",
            "1875/1875 [==============================] - 4s 2ms/step - loss: 0.2526 - accuracy: 0.9058\n",
            "Epoch 9/10\n",
            "1875/1875 [==============================] - 4s 2ms/step - loss: 0.2454 - accuracy: 0.9080\n",
            "Epoch 10/10\n",
            "1875/1875 [==============================] - 4s 2ms/step - loss: 0.2311 - accuracy: 0.9140\n"
          ],
          "name": "stdout"
        },
        {
          "output_type": "execute_result",
          "data": {
            "text/plain": [
              "<tensorflow.python.keras.callbacks.History at 0x7f2f1bb9e6a0>"
            ]
          },
          "metadata": {
            "tags": []
          },
          "execution_count": 21
        }
      ]
    },
    {
      "cell_type": "markdown",
      "metadata": {
        "id": "3rA9duO5hW5T"
      },
      "source": [
        "So as the Model trains the loss and accuracy metrics are displayed. The Model reaches an accuracy about 0.91 on the training data. "
      ]
    },
    {
      "cell_type": "markdown",
      "metadata": {
        "id": "6pKIrwWWhz1o"
      },
      "source": [
        "**2. Evaluate the Model**\r\n",
        "\r\n",
        "+ Check how the Model Perfoms on the test data."
      ]
    },
    {
      "cell_type": "code",
      "metadata": {
        "id": "slsOm2tWhT8G",
        "outputId": "1ddbb477-f587-4ae1-bbe3-86725f323981",
        "colab": {
          "base_uri": "https://localhost:8080/"
        }
      },
      "source": [
        "test_loss, test_acc = model.evaluate(test_images, test_labels, verbose=2)\r\n",
        "print(\"\\nTest Accuracy:\", test_acc)"
      ],
      "execution_count": 22,
      "outputs": [
        {
          "output_type": "stream",
          "text": [
            "313/313 - 0s - loss: 0.3471 - accuracy: 0.8814\n",
            "\n",
            "Test Accuracy: 0.8813999891281128\n"
          ],
          "name": "stdout"
        }
      ]
    },
    {
      "cell_type": "markdown",
      "metadata": {
        "id": "wPwYMNFLifcY"
      },
      "source": [
        "+ Test accuracy is less than training accuracy.\r\n",
        "+ The gap between these to accuracies is called overfitting."
      ]
    },
    {
      "cell_type": "markdown",
      "metadata": {
        "id": "trQChwHqi6_3"
      },
      "source": [
        "+ Overfitting happens when a machine learning model performs worse on new, previously unseen inputs than it does on the training data.\r\n",
        "\r\n",
        "+ An overfitted model \"memorizes\" the noise and details in the training dataset to a point where it negatively impacts the performance of the model on the new data."
      ]
    },
    {
      "cell_type": "markdown",
      "metadata": {
        "id": "UZrYCHIYjFMT"
      },
      "source": [
        "**3. Make Predictions**"
      ]
    },
    {
      "cell_type": "markdown",
      "metadata": {
        "id": "62vaSVIqjLSo"
      },
      "source": [
        "Now Make Predictions about some Image.\r\n",
        "+ The model's linear outputs logits\r\n",
        "+ Attach a softmax layer to convert the logits to probabilities."
      ]
    },
    {
      "cell_type": "code",
      "metadata": {
        "id": "GLH2k8qDibfJ"
      },
      "source": [
        "probability_model = tf.keras.Sequential([model, tf.keras.layers.Softmax()])"
      ],
      "execution_count": 23,
      "outputs": []
    },
    {
      "cell_type": "code",
      "metadata": {
        "id": "WQXrnXgRj1RD"
      },
      "source": [
        "predictions = probability_model.predict(test_images)"
      ],
      "execution_count": 24,
      "outputs": []
    },
    {
      "cell_type": "markdown",
      "metadata": {
        "id": "FwNkQ_yHj9z5"
      },
      "source": [
        "First Prediction"
      ]
    },
    {
      "cell_type": "code",
      "metadata": {
        "id": "HogRENHVj8DU",
        "outputId": "b9aa68b8-fc88-4784-d570-1c9688ecc3b3",
        "colab": {
          "base_uri": "https://localhost:8080/"
        }
      },
      "source": [
        "predictions[0]"
      ],
      "execution_count": 25,
      "outputs": [
        {
          "output_type": "execute_result",
          "data": {
            "text/plain": [
              "array([2.2650626e-08, 2.3837571e-11, 6.3444422e-10, 1.1522298e-12,\n",
              "       2.2179937e-07, 1.2123788e-03, 2.8108479e-07, 1.9444274e-02,\n",
              "       3.2291798e-08, 9.7934282e-01], dtype=float32)"
            ]
          },
          "metadata": {
            "tags": []
          },
          "execution_count": 25
        }
      ]
    },
    {
      "cell_type": "markdown",
      "metadata": {
        "id": "yArKYexJkGvJ"
      },
      "source": [
        "Prediction is an array of 10 numbers. They represents the model's \"confidence\" that the image corresponds to each of the 10 different articles of clothing.\r\n",
        "\r\n",
        "+ See which label has the highest confidence value."
      ]
    },
    {
      "cell_type": "code",
      "metadata": {
        "id": "Uj0qkO9mkCZ9",
        "outputId": "02f4bf5e-b61d-4196-9d46-6180a991a897",
        "colab": {
          "base_uri": "https://localhost:8080/"
        }
      },
      "source": [
        "np.argmax(predictions[0])"
      ],
      "execution_count": 26,
      "outputs": [
        {
          "output_type": "execute_result",
          "data": {
            "text/plain": [
              "9"
            ]
          },
          "metadata": {
            "tags": []
          },
          "execution_count": 26
        }
      ]
    },
    {
      "cell_type": "markdown",
      "metadata": {
        "id": "RluNS2Zck7ZI"
      },
      "source": [
        "So, the model is most confident that this image is an ankle boot, or class_name[9]"
      ]
    },
    {
      "cell_type": "markdown",
      "metadata": {
        "id": "AInXgmc0lPRk"
      },
      "source": [
        "Now, Examine the test_labels shows that this classification id correct."
      ]
    },
    {
      "cell_type": "code",
      "metadata": {
        "id": "DH1LREosk46B",
        "outputId": "b9d313d7-6d88-40a4-b0a1-aaafd4b83708",
        "colab": {
          "base_uri": "https://localhost:8080/"
        }
      },
      "source": [
        "test_labels[0]"
      ],
      "execution_count": 27,
      "outputs": [
        {
          "output_type": "execute_result",
          "data": {
            "text/plain": [
              "9"
            ]
          },
          "metadata": {
            "tags": []
          },
          "execution_count": 27
        }
      ]
    },
    {
      "cell_type": "markdown",
      "metadata": {
        "id": "GU4B7Lz0lpqf"
      },
      "source": [
        "Graph this to look at the full set of 10 class predictions."
      ]
    },
    {
      "cell_type": "code",
      "metadata": {
        "id": "e5IojlhaleUs"
      },
      "source": [
        "def plot_image(i, predictions_array, true_label, img):\r\n",
        "  true_label, img = true_label[i], img[i]\r\n",
        "  plt.grid(False)\r\n",
        "  plt.xticks([])\r\n",
        "  plt.yticks([])\r\n",
        "\r\n",
        "  plt.imshow(img, cmap=plt.cm.binary)\r\n",
        "\r\n",
        "  predicted_label = np.argmax(predictions_array)\r\n",
        "  if predicted_label == true_label:\r\n",
        "    color = 'blue'\r\n",
        "  else:\r\n",
        "    color = 'red'\r\n",
        "\r\n",
        "  plt.xlabel(\"{} {:2.0f}% ({})\".format(class_names[predicted_label],\r\n",
        "                                100*np.max(predictions_array),\r\n",
        "                                class_names[true_label]),\r\n",
        "                                color=color)\r\n",
        "\r\n",
        "def plot_value_array(i, predictions_array, true_label):\r\n",
        "  true_label = true_label[i]\r\n",
        "  plt.grid(False)\r\n",
        "  plt.xticks(range(10))\r\n",
        "  plt.yticks([])\r\n",
        "  thisplot = plt.bar(range(10), predictions_array, color=\"#777777\")\r\n",
        "  plt.ylim([0, 1])\r\n",
        "  predicted_label = np.argmax(predictions_array)\r\n",
        "\r\n",
        "  thisplot[predicted_label].set_color('red')\r\n",
        "  thisplot[true_label].set_color('blue')"
      ],
      "execution_count": 28,
      "outputs": []
    },
    {
      "cell_type": "markdown",
      "metadata": {
        "id": "AfYm01HelyFr"
      },
      "source": [
        "**4. Verify Predictions**\r\n",
        "\r\n",
        "+ Correct Prediction labels are blue and Incorrect will be Red.\r\n",
        "+ Number gives the Percentage of the Predicted label."
      ]
    },
    {
      "cell_type": "code",
      "metadata": {
        "id": "0XqLZOSGltoB",
        "outputId": "499905d1-fbe3-4877-c20d-1ea2581e60cf",
        "colab": {
          "base_uri": "https://localhost:8080/",
          "height": 211
        }
      },
      "source": [
        "i = 0\r\n",
        "plt.figure(figsize=(6,3))\r\n",
        "plt.subplot(1,2,1)\r\n",
        "plot_image(i, predictions[i], test_labels, test_images)\r\n",
        "plt.subplot(1,2,2)\r\n",
        "plot_value_array(i, predictions[i],  test_labels)\r\n",
        "plt.show()"
      ],
      "execution_count": 31,
      "outputs": [
        {
          "output_type": "display_data",
          "data": {
            "image/png": "[encoded data removed]",
            "text/plain": [
              "<Figure size 432x216 with 2 Axes>"
            ]
          },
          "metadata": {
            "tags": [],
            "needs_background": "light"
          }
        }
      ]
    },
    {
      "cell_type": "code",
      "metadata": {
        "id": "I_C47GD6mN-k",
        "outputId": "97cb7747-59e4-480a-a4ca-f71f7e155721",
        "colab": {
          "base_uri": "https://localhost:8080/",
          "height": 211
        }
      },
      "source": [
        "i = 10\r\n",
        "plt.figure(figsize=(6,3))\r\n",
        "plt.subplot(1,2,1)\r\n",
        "plot_image(i, predictions[i], test_labels, test_images)\r\n",
        "plt.subplot(1,2,2)\r\n",
        "plot_value_array(i, predictions[i],  test_labels)\r\n",
        "plt.show()"
      ],
      "execution_count": 34,
      "outputs": [
        {
          "output_type": "display_data",
          "data": {
            "image/png": "[encoded data removed]",
            "text/plain": [
              "<Figure size 432x216 with 2 Axes>"
            ]
          },
          "metadata": {
            "tags": [],
            "needs_background": "light"
          }
        }
      ]
    },
    {
      "cell_type": "markdown",
      "metadata": {
        "id": "IXu6jPLkmdTZ"
      },
      "source": [
        "Several Images with their Predictions"
      ]
    },
    {
      "cell_type": "code",
      "metadata": {
        "id": "tbA0KUf0mSr9",
        "outputId": "14275b9f-0933-420a-d713-2690fd059b21",
        "colab": {
          "base_uri": "https://localhost:8080/",
          "height": 729
        }
      },
      "source": [
        "# Plot the first X test images, their predicted labels, and the true labels.\r\n",
        "# Color correct predictions in blue and incorrect predictions in red.\r\n",
        "num_rows = 5\r\n",
        "num_cols = 3\r\n",
        "num_images = num_rows*num_cols\r\n",
        "plt.figure(figsize=(2*2*num_cols, 2*num_rows))\r\n",
        "for i in range(num_images):\r\n",
        "  plt.subplot(num_rows, 2*num_cols, 2*i+1)\r\n",
        "  plot_image(i, predictions[i], test_labels, test_images)\r\n",
        "  plt.subplot(num_rows, 2*num_cols, 2*i+2)\r\n",
        "  plot_value_array(i, predictions[i], test_labels)\r\n",
        "plt.tight_layout()\r\n",
        "plt.show()"
      ],
      "execution_count": 35,
      "outputs": [
        {
          "output_type": "display_data",
          "data": {
            "image/png": "[encoded data removed]",
            "text/plain": [
              "<Figure size 864x720 with 30 Axes>"
            ]
          },
          "metadata": {
            "tags": [],
            "needs_background": "light"
          }
        }
      ]
    },
    {
      "cell_type": "markdown",
      "metadata": {
        "id": "56QW8xeymsZr"
      },
      "source": [
        "**6. Use Trained Model**\r\n",
        "+ Use trained model to make prediction about single image from test set."
      ]
    },
    {
      "cell_type": "code",
      "metadata": {
        "id": "rf8iAFqvmmp8",
        "outputId": "d05863c3-2090-4802-c352-4e78f31a5c5f",
        "colab": {
          "base_uri": "https://localhost:8080/"
        }
      },
      "source": [
        "img = test_images[1]\r\n",
        "print(img.shape)"
      ],
      "execution_count": 36,
      "outputs": [
        {
          "output_type": "stream",
          "text": [
            "(28, 28)\n"
          ],
          "name": "stdout"
        }
      ]
    },
    {
      "cell_type": "markdown",
      "metadata": {
        "id": "CsNKSpVXncrw"
      },
      "source": [
        "tf.keras models are optimized to make predictions on a batch, or collection, of examples at once. Accordingly, even though you're using a single image, you need to add it to a list"
      ]
    },
    {
      "cell_type": "code",
      "metadata": {
        "id": "sUjSxQx1nMFI",
        "outputId": "1d5c9fe3-b6e9-4894-f8f3-2ac04783c0dc",
        "colab": {
          "base_uri": "https://localhost:8080/"
        }
      },
      "source": [
        "# Add the image to a batch where it's the only member.\r\n",
        "img = (np.expand_dims(img,0))\r\n",
        "\r\n",
        "print(img.shape)"
      ],
      "execution_count": 37,
      "outputs": [
        {
          "output_type": "stream",
          "text": [
            "(1, 28, 28)\n"
          ],
          "name": "stdout"
        }
      ]
    },
    {
      "cell_type": "markdown",
      "metadata": {
        "id": "t1HMKB_dnsot"
      },
      "source": [
        "Now predict the correct label for this image"
      ]
    },
    {
      "cell_type": "code",
      "metadata": {
        "id": "ajTLvg1InopB",
        "outputId": "bc4ac44b-d790-4c5a-bcac-d20e610ba77d",
        "colab": {
          "base_uri": "https://localhost:8080/",
          "height": 197
        }
      },
      "source": [
        "predictions_single = probability_model.predict(img)\r\n",
        "\r\n",
        "print(predictions_single)"
      ],
      "execution_count": 30,
      "outputs": [
        {
          "output_type": "error",
          "ename": "NameError",
          "evalue": "ignored",
          "traceback": [
            "\u001b[0;31m---------------------------------------------------------------------------\u001b[0m",
            "\u001b[0;31mNameError\u001b[0m                                 Traceback (most recent call last)",
            "\u001b[0;32m<ipython-input-30-0d1ebe3f2efd>\u001b[0m in \u001b[0;36m<module>\u001b[0;34m()\u001b[0m\n\u001b[0;32m----> 1\u001b[0;31m \u001b[0mpredictions_single\u001b[0m \u001b[0;34m=\u001b[0m \u001b[0mprobability_model\u001b[0m\u001b[0;34m.\u001b[0m\u001b[0mpredict\u001b[0m\u001b[0;34m(\u001b[0m\u001b[0mimg\u001b[0m\u001b[0;34m)\u001b[0m\u001b[0;34m\u001b[0m\u001b[0;34m\u001b[0m\u001b[0m\n\u001b[0m\u001b[1;32m      2\u001b[0m \u001b[0;34m\u001b[0m\u001b[0m\n\u001b[1;32m      3\u001b[0m \u001b[0mprint\u001b[0m\u001b[0;34m(\u001b[0m\u001b[0mpredictions_single\u001b[0m\u001b[0;34m)\u001b[0m\u001b[0;34m\u001b[0m\u001b[0;34m\u001b[0m\u001b[0m\n",
            "\u001b[0;31mNameError\u001b[0m: name 'img' is not defined"
          ]
        }
      ]
    },
    {
      "cell_type": "code",
      "metadata": {
        "id": "cBdR0uA_ny6z"
      },
      "source": [
        "plot_value_array(1, predictions_single[0], test_labels)\r\n",
        "_ = plt.xticks(range(10), class_names, rotation=45)"
      ],
      "execution_count": null,
      "outputs": []
    },
    {
      "cell_type": "markdown",
      "metadata": {
        "id": "ZW9QmGwwoBps"
      },
      "source": [
        "tf.keras.Model.predict returns a list of lists—one list for each image in the batch of data. Grab the predictions for our (only) image in the batch"
      ]
    },
    {
      "cell_type": "code",
      "metadata": {
        "id": "iFpD2AMun6um"
      },
      "source": [
        "np.argmax(predictions_single[0])"
      ],
      "execution_count": null,
      "outputs": []
    },
    {
      "cell_type": "markdown",
      "metadata": {
        "id": "4ndZoQ3-oNg1"
      },
      "source": [
        "And the model predicts a label as expected."
      ]
    },
    {
      "cell_type": "code",
      "metadata": {
        "id": "qsz0Kj2WoIMK"
      },
      "source": [
        ""
      ],
      "execution_count": null,
      "outputs": []
    }
  ]
}